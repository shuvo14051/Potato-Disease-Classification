{
 "cells": [
  {
   "cell_type": "code",
   "execution_count": 1,
   "id": "7af5db4c",
   "metadata": {},
   "outputs": [],
   "source": [
    "import splitfolders\n",
    "import os"
   ]
  },
  {
   "cell_type": "code",
   "execution_count": 2,
   "id": "311e5d42",
   "metadata": {},
   "outputs": [
    {
     "name": "stdout",
     "output_type": "stream",
     "text": [
      "['.ipynb_checkpoints', 'CNN Project - Potato Disease Classification.ipynb', 'Images', 'PlantVillage', 'Potato Disease Classification.ipynb', 'Tensorflow Input Pipleline tf dataset.ipynb', 'tf dataset with images.ipynb', 'train test validation split.ipynb']\n"
     ]
    }
   ],
   "source": [
    "print(os.listdir())"
   ]
  },
  {
   "cell_type": "code",
   "execution_count": 3,
   "id": "291439d0",
   "metadata": {},
   "outputs": [],
   "source": [
    "path = \"PlantVillage/\""
   ]
  },
  {
   "cell_type": "code",
   "execution_count": 4,
   "id": "3f7acf32",
   "metadata": {},
   "outputs": [
    {
     "name": "stderr",
     "output_type": "stream",
     "text": [
      "Copying files: 2152 files [00:02, 972.89 files/s] \n"
     ]
    }
   ],
   "source": [
    "splitfolders.ratio(path, output=\"PlantVillage-Splited\",seed=1337, ratio=(.8, .1, .1))"
   ]
  },
  {
   "cell_type": "code",
   "execution_count": null,
   "id": "70316b2b",
   "metadata": {},
   "outputs": [],
   "source": []
  }
 ],
 "metadata": {
  "kernelspec": {
   "display_name": "Python 3 (ipykernel)",
   "language": "python",
   "name": "python3"
  },
  "language_info": {
   "codemirror_mode": {
    "name": "ipython",
    "version": 3
   },
   "file_extension": ".py",
   "mimetype": "text/x-python",
   "name": "python",
   "nbconvert_exporter": "python",
   "pygments_lexer": "ipython3",
   "version": "3.9.6"
  }
 },
 "nbformat": 4,
 "nbformat_minor": 5
}
